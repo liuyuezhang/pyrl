{
 "cells": [
  {
   "cell_type": "code",
   "execution_count": 1,
   "metadata": {},
   "outputs": [],
   "source": [
    "import matplotlib.pyplot as plt\n",
    "import numpy as np\n",
    "import pandas as pd\n",
    "import seaborn as sns\n",
    "import re\n",
    "import os\n",
    "\n",
    "%matplotlib inline\n"
   ]
  },
  {
   "cell_type": "code",
   "execution_count": 85,
   "metadata": {},
   "outputs": [],
   "source": [
    "def get_plot_data(path, span=1000):\n",
    "    df = pd.DataFrame()\n",
    "\n",
    "    with open(path + 'test.txt') as file:\n",
    "        data = pd.read_csv(file, index_col=None)\n",
    "        df = df.append(data, ignore_index=True)\n",
    "\n",
    "    df['r'] = df['r'].ewm(span=span).mean()\n",
    "    return df\n"
   ]
  },
  {
   "cell_type": "code",
   "execution_count": 106,
   "metadata": {},
   "outputs": [
    {
     "name": "stdout",
     "output_type": "stream",
     "text": [
      "             t         r  seed      \n",
      "0            0       NaN    10  ddqn\n",
      "1          240  0.000000    10  ddqn\n",
      "2          480  0.000000    10  ddqn\n",
      "3          720  0.000000    10  ddqn\n",
      "4          960  0.000000    10  ddqn\n",
      "5         1200  0.000000    10  ddqn\n",
      "6         1440  0.000000    10  ddqn\n",
      "7         1680  0.000000    10  ddqn\n",
      "8         1920  0.000000    10  ddqn\n",
      "9         2160  0.000000    10  ddqn\n",
      "10        2400  0.000000    10  ddqn\n",
      "11        2640  0.000000    10  ddqn\n",
      "12        2880  0.000000    10  ddqn\n",
      "13        3120  0.000000    10  ddqn\n",
      "14        3360  0.000000    10  ddqn\n",
      "15        3600  0.000000    10  ddqn\n",
      "16        3840  0.000000    10  ddqn\n",
      "17        4080  0.000000    10  ddqn\n",
      "18        4320  0.000000    10  ddqn\n",
      "19        4560  0.000000    10  ddqn\n",
      "20        4800  0.000000    10  ddqn\n",
      "21        5040  0.000000    10  ddqn\n",
      "22        5280  0.000000    10  ddqn\n",
      "23        5520  0.000000    10  ddqn\n",
      "24        5760  0.000000    10  ddqn\n",
      "25        6000  0.000000    10  ddqn\n",
      "26        6240  0.000000    10  ddqn\n",
      "27        6480  0.000000    10  ddqn\n",
      "28        6720  0.000000    10  ddqn\n",
      "29        6960  0.000000    10  ddqn\n",
      "...        ...       ...   ...   ...\n",
      "31298  2392800  0.927875    10   ger\n",
      "31299  2393040  0.927875    10   ger\n",
      "31300  2393280  0.927875    10   ger\n",
      "31301  2393520  0.927875    10   ger\n",
      "31302  2393760  0.927875    10   ger\n",
      "31303  2394000  0.927875    10   ger\n",
      "31304  2394240  0.927875    10   ger\n",
      "31305  2394480  0.927875    10   ger\n",
      "31306  2394720  0.927875    10   ger\n",
      "31307  2394960  0.927875    10   ger\n",
      "31308  2395200  0.927875    10   ger\n",
      "31309  2395440  0.927875    10   ger\n",
      "31310  2395680  0.927875    10   ger\n",
      "31311  2395920  0.927875    10   ger\n",
      "31312  2396160  0.927875    10   ger\n",
      "31313  2396400  0.927875    10   ger\n",
      "31314  2396640  0.927875    10   ger\n",
      "31315  2396880  0.927875    10   ger\n",
      "31316  2397120  0.927875    10   ger\n",
      "31317  2397360  0.927875    10   ger\n",
      "31318  2397600  0.927875    10   ger\n",
      "31319  2397840  0.927875    10   ger\n",
      "31320  2398080  0.927875    10   ger\n",
      "31321  2398320  0.927875    10   ger\n",
      "31322  2398560  0.927875    10   ger\n",
      "31323  2398800  0.927875    10   ger\n",
      "31324  2399040  0.927875    10   ger\n",
      "31325  2399280  0.927875    10   ger\n",
      "31326  2399520  0.927875    10   ger\n",
      "31327  2399760  0.927875    10   ger\n",
      "\n",
      "[31328 rows x 4 columns]\n"
     ]
    }
   ],
   "source": [
    "i = 4\n",
    "\n",
    "TIMESTEP = 2.4e6\n",
    "NSAMPLE = 1e4\n",
    "GAMES = ['Breakout', 'Seaquest', 'Pong', 'MontezumaRevenge', 'BitFlip15']\n",
    "TOPS = [10, 2000, 22, 10, 1, 1]\n",
    "METHODS = ['ger', 'her', 'ddqn']\n",
    "\n",
    "res_dir = './res/'\n",
    "files = os.listdir(res_dir)\n",
    "sample_list = np.arange(0, TIMESTEP, TIMESTEP/NSAMPLE, dtype=np.int)\n",
    "\n",
    "df = pd.DataFrame()\n",
    "for file in os.listdir(res_dir):\n",
    "    m = re.match('(.*)_(.*)_(.*)', file)\n",
    "    env = m.group(1)\n",
    "    method = m.group(2)\n",
    "    seed = m.group(3)\n",
    "    if (GAMES[i] in env) and (method in METHODS):\n",
    "        path = res_dir + file + '/'\n",
    "        data = get_plot_data(path)\n",
    "\n",
    "        sample = pd.DataFrame()\n",
    "        sample['t'] = sample_list\n",
    "        sample['r'] = np.nan\n",
    "        \n",
    "        # interpolation\n",
    "        res = pd.concat([sample, data], join='inner')\n",
    "        res.sort_values('t', inplace=True)\n",
    "        res.interpolate(method='linear', inplace=True)\n",
    "        res = res[res['t'].isin(sample_list)]\n",
    "\n",
    "        res['seed'] = int(seed)\n",
    "        res[''] = method\n",
    "        df = df.append(res, ignore_index=True)\n",
    "\n",
    "print(df)\n"
   ]
  },
  {
   "cell_type": "code",
   "execution_count": 107,
   "metadata": {
    "scrolled": false
   },
   "outputs": [
    {
     "data": {
      "text/plain": [
       "<matplotlib.legend.Legend at 0x7f733b53f5f8>"
      ]
     },
     "execution_count": 107,
     "metadata": {},
     "output_type": "execute_result"
    },
    {
     "data": {
      "image/png": "[encoded data removed]",
      "text/plain": [
       "<Figure size 432x288 with 1 Axes>"
      ]
     },
     "metadata": {},
     "output_type": "display_data"
    }
   ],
   "source": [
    "ax = sns.lineplot(x='t', y='r', hue='', ci=95, n_boot=10, \n",
    "                  hue_order=['ger', 'her', 'ddqn'], \n",
    "                  data=df)\n",
    "ax.set(title=GAMES[i],\n",
    "       xlabel='Timesteps', ylabel='Average Return')\n",
    "plt.ylim(top=TOPS[i])\n",
    "plt.ticklabel_format(axis='x', style='sci', scilimits=(0,3))\n",
    "plt.legend(loc='lower right')\n",
    "# plt.savefig('/home/liuyuezhangadam/Desktop/'+GAMES[i]+'.png', dpi=300)\n"
   ]
  }
 ],
 "metadata": {
  "kernelspec": {
   "display_name": "Python 3",
   "language": "python",
   "name": "python3"
  },
  "language_info": {
   "codemirror_mode": {
    "name": "ipython",
    "version": 3
   },
   "file_extension": ".py",
   "mimetype": "text/x-python",
   "name": "python",
   "nbconvert_exporter": "python",
   "pygments_lexer": "ipython3",
   "version": "3.6.5"
  }
 },
 "nbformat": 4,
 "nbformat_minor": 2
}
