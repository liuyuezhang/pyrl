{
 "cells": [
  {
   "cell_type": "code",
   "execution_count": 1,
   "metadata": {},
   "outputs": [],
   "source": [
    "import matplotlib.pyplot as plt\n",
    "import numpy as np\n",
    "import pandas as pd\n",
    "import seaborn as sns\n",
    "import re\n",
    "import os\n",
    "\n",
    "%matplotlib inline\n"
   ]
  },
  {
   "cell_type": "code",
   "execution_count": 6,
   "metadata": {},
   "outputs": [],
   "source": [
    "def get_plot_data(path, span=1000):\n",
    "    df = pd.DataFrame()\n",
    "\n",
    "    with open(path + 'test.txt') as file:\n",
    "        data = pd.read_csv(file, index_col=None)\n",
    "        df = df.append(data, ignore_index=True)\n",
    "\n",
    "    df['r'] = df['r'].ewm(span=span).mean()\n",
    "    return df\n"
   ]
  },
  {
   "cell_type": "code",
   "execution_count": 9,
   "metadata": {},
   "outputs": [
    {
     "name": "stdout",
     "output_type": "stream",
     "text": [
      "              t           r  seed     \n",
      "0             0         NaN     0  a3c\n",
      "1          5000    9.500500     0  a3c\n",
      "2         10000    5.618101     0  a3c\n",
      "3         15000    3.765440     0  a3c\n",
      "4         20000    3.466282     0  a3c\n",
      "5         25000    3.302923     0  a3c\n",
      "6         30000    3.068502     0  a3c\n",
      "7         35000    3.057424     0  a3c\n",
      "8         40000    2.673577     0  a3c\n",
      "9         45000    2.400459     0  a3c\n",
      "10        50000    2.518151     0  a3c\n",
      "11        55000    2.454934     0  a3c\n",
      "12        60000    2.411355     0  a3c\n",
      "13        65000    2.374999     0  a3c\n",
      "14        70000    2.344210     0  a3c\n",
      "15        75000    2.317803     0  a3c\n",
      "16        80000    2.332990     0  a3c\n",
      "17        85000    2.297151     0  a3c\n",
      "18        90000    2.367906     0  a3c\n",
      "19        95000    2.312939     0  a3c\n",
      "20       100000    2.302529     0  a3c\n",
      "21       105000    2.369776     0  a3c\n",
      "22       110000    2.256505     0  a3c\n",
      "23       115000    2.245613     0  a3c\n",
      "24       120000    2.304616     0  a3c\n",
      "25       125000    2.473634     0  a3c\n",
      "26       130000    2.467355     0  a3c\n",
      "27       135000    2.476459     0  a3c\n",
      "28       140000    2.605066     0  a3c\n",
      "29       145000    2.562398     0  a3c\n",
      "...         ...         ...   ...  ...\n",
      "9971   49850000  383.681272     0  a3c\n",
      "9972   49855000  383.655944     0  a3c\n",
      "9973   49860000  383.630616     0  a3c\n",
      "9974   49865000  383.602887     0  a3c\n",
      "9975   49870000  383.600485     0  a3c\n",
      "9976   49875000  383.613670     0  a3c\n",
      "9977   49880000  383.629256     0  a3c\n",
      "9978   49885000  383.656507     0  a3c\n",
      "9979   49890000  383.668173     0  a3c\n",
      "9980   49895000  383.679839     0  a3c\n",
      "9981   49900000  383.680388     0  a3c\n",
      "9982   49905000  383.669272     0  a3c\n",
      "9983   49910000  383.669039     0  a3c\n",
      "9984   49915000  383.679923     0  a3c\n",
      "9985   49920000  383.651500     0  a3c\n",
      "9986   49925000  383.612194     0  a3c\n",
      "9987   49930000  383.572888     0  a3c\n",
      "9988   49935000  383.544549     0  a3c\n",
      "9989   49940000  383.555515     0  a3c\n",
      "9990   49945000  383.578686     0  a3c\n",
      "9991   49950000  383.590891     0  a3c\n",
      "9992   49955000  383.603096     0  a3c\n",
      "9993   49960000  383.610894     0  a3c\n",
      "9994   49965000  383.606489     0  a3c\n",
      "9995   49970000  383.597686     0  a3c\n",
      "9996   49975000  383.593289     0  a3c\n",
      "9997   49980000  383.602084     0  a3c\n",
      "9998   49985000  383.615276     0  a3c\n",
      "9999   49990000  383.628469     0  a3c\n",
      "10000  49995000  383.641661     0  a3c\n",
      "\n",
      "[10001 rows x 4 columns]\n"
     ]
    }
   ],
   "source": [
    "i = 0\n",
    "\n",
    "TIMESTEP = 50e6\n",
    "NSAMPLE = 1e4\n",
    "GAMES = ['Breakout', 'Seaquest', 'Pong', 'MontezumaRevenge']\n",
    "YMAXS = [500, 2000, 22, 1]\n",
    "METHODS = ['a3c']\n",
    "\n",
    "res_dir = './res/'\n",
    "files = os.listdir(res_dir)\n",
    "sample_list = np.arange(0, TIMESTEP, TIMESTEP/NSAMPLE, dtype=np.int)\n",
    "\n",
    "df = pd.DataFrame()\n",
    "for file in os.listdir(res_dir):\n",
    "    m = re.match('(.*)_(.*)_(.*)', file)\n",
    "    env = m.group(1)\n",
    "    method = m.group(2)\n",
    "    seed = m.group(3)\n",
    "    if (GAMES[i] in env) and (method in METHODS):\n",
    "        path = res_dir + file + '/'\n",
    "        data = get_plot_data(path)\n",
    "\n",
    "        sample = pd.DataFrame()\n",
    "        sample['t'] = sample_list\n",
    "        sample['r'] = np.nan\n",
    "\n",
    "        # interpolation\n",
    "        res = pd.concat([sample, data], join='inner')\n",
    "        res.sort_values('t', inplace=True)\n",
    "        res.interpolate(method='linear', inplace=True)\n",
    "        res = res[res['t'].isin(sample_list)]\n",
    "\n",
    "        res['seed'] = int(seed)\n",
    "        res[''] = method\n",
    "        df = df.append(res, ignore_index=True)\n",
    "\n",
    "print(df)\n"
   ]
  },
  {
   "cell_type": "code",
   "execution_count": 10,
   "metadata": {
    "scrolled": true
   },
   "outputs": [
    {
     "data": {
      "text/plain": [
       "<matplotlib.legend.Legend at 0x7f318b61ce80>"
      ]
     },
     "execution_count": 10,
     "metadata": {},
     "output_type": "execute_result"
    },
    {
     "data": {
      "image/png": "[encoded data removed]",
      "text/plain": [
       "<Figure size 432x288 with 1 Axes>"
      ]
     },
     "metadata": {},
     "output_type": "display_data"
    }
   ],
   "source": [
    "ax = sns.lineplot(x='t', y='r', hue='', ci=95, n_boot=10, \n",
    "                  hue_order=['a3c'], \n",
    "                  data=df)\n",
    "ax.set(title=GAMES[i], xlabel='Timesteps', ylabel='Average Return')\n",
    "plt.ylim(ymax=YMAXS[i])\n",
    "plt.ticklabel_format(axis='x', style='sci', scilimits=(0,3))\n",
    "plt.legend(loc='lower right')\n",
    "# plt.savefig('/home/liuyuezhangadam/Desktop/'+GAMES[i]+'.png', dpi=300)\n"
   ]
  }
 ],
 "metadata": {
  "kernelspec": {
   "display_name": "Python 3",
   "language": "python",
   "name": "python3"
  },
  "language_info": {
   "codemirror_mode": {
    "name": "ipython",
    "version": 3
   },
   "file_extension": ".py",
   "mimetype": "text/x-python",
   "name": "python",
   "nbconvert_exporter": "python",
   "pygments_lexer": "ipython3",
   "version": "3.6.5"
  }
 },
 "nbformat": 4,
 "nbformat_minor": 2
}
